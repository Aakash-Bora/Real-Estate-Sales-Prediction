{
 "cells": [
  {
   "cell_type": "markdown",
   "id": "31f6852b",
   "metadata": {},
   "source": [
    "# ENGR 1330 – Computational Thinking and Data Science"
   ]
  },
  {
   "cell_type": "markdown",
   "id": "ff6a0a07",
   "metadata": {},
   "source": [
    "## Machine Learning\n",
    "\n",
    "Machine learning (ML) is the process of  building algorithms that are capable of ‘learning’ from data. ML takes a dataset and attempts to fit a model to the data such that the model can make accurate predictions on data that is either unknown or to fill in missing parts of the data. An example of this would be using ML to predict what videos a user might want to watch based on what they viewed previously. \n",
    "\n",
    "The purpose of a Machine learning system is to:\n",
    "- Fit a model to a dataset \n",
    "- Use the model to make predictions about the future\n",
    "- Use the model to fill in missing data \n",
    "\n",
    "This project will develop scripts to train a machine learning model. \n",
    "\n",
    "### Background\n",
    "Scikit will be used to generate and train the model along with making the predictions. Scikit is a common machine learning library and is a good place to start learning about machine learning. The model type for this project will be Support Vector Machine (SVM) that takes in a vector with each element of the vector representing a variable. \n",
    "\n",
    "To learn more about Scikit SVM models read the documentation found here:\n",
    "https://scikit-learn.org/stable/modules/svm.html#svm\n",
    "\n",
    "## Objective(s):\n",
    "- Train a model using prvided dataset with a 80/20 training/validation split.\n",
    "- test your model against the validation set\n",
    "- predict the future\n",
    "\n",
    "## Presentation\n",
    "Prepare a 5-8 min presentation that will be given to the class. \n",
    "The presentation should include:\n",
    "- Description of the dataset used\n",
    "- Histogram of the weights\n",
    "- A graph of the data and model\n",
    "- Accuracy of the model when tested against the validation set\n",
    "- Graph of the data along with the predicted data\n",
    "- Predict data using an x that you come up with that is not included in the data\n",
    "- Expect to be asked questions about the data and model as well as what variables played the largest role.\n",
    "\n",
    "## Submission \n",
    "- Your presentation slides, jupyter notebook, and pdf of the jupyter notebook must be submitted BEFORE the your present.\n",
    "\n",
    "## Libraries \n",
    "- numpy\n",
    "- pandas\n",
    "- matplotlib\n",
    "- scikit"
   ]
  },
  {
   "cell_type": "markdown",
   "id": "291b8227",
   "metadata": {},
   "source": [
    "## Data\n",
    "- using statistics and graphs describe your data"
   ]
  },
  {
   "cell_type": "code",
   "execution_count": 1,
   "id": "7a147450",
   "metadata": {},
   "outputs": [
    {
     "name": "stderr",
     "output_type": "stream",
     "text": [
      "/var/folders/zb/f7d1w1ds71bbs2ms1svftm6r0000gn/T/ipykernel_53898/1782766368.py:8: DtypeWarning: Columns (8,9,10,11,12) have mixed types. Specify dtype option on import or set low_memory=False.\n",
      "  df = pd.read_csv('/Users/aakashbora/downloads/Real_Estate_Sales_2001-2020_GL.csv')\n"
     ]
    },
    {
     "data": {
      "text/html": [
       "<div>\n",
       "<style scoped>\n",
       "    .dataframe tbody tr th:only-of-type {\n",
       "        vertical-align: middle;\n",
       "    }\n",
       "\n",
       "    .dataframe tbody tr th {\n",
       "        vertical-align: top;\n",
       "    }\n",
       "\n",
       "    .dataframe thead th {\n",
       "        text-align: right;\n",
       "    }\n",
       "</style>\n",
       "<table border=\"1\" class=\"dataframe\">\n",
       "  <thead>\n",
       "    <tr style=\"text-align: right;\">\n",
       "      <th></th>\n",
       "      <th>Serial Number</th>\n",
       "      <th>List Year</th>\n",
       "      <th>Date Recorded</th>\n",
       "      <th>Town</th>\n",
       "      <th>Address</th>\n",
       "      <th>Assessed Value</th>\n",
       "      <th>Sale Amount</th>\n",
       "      <th>Sales Ratio</th>\n",
       "      <th>Property Type</th>\n",
       "      <th>Residential Type</th>\n",
       "      <th>Non Use Code</th>\n",
       "      <th>Assessor Remarks</th>\n",
       "      <th>OPM remarks</th>\n",
       "      <th>Location</th>\n",
       "    </tr>\n",
       "  </thead>\n",
       "  <tbody>\n",
       "    <tr>\n",
       "      <th>0</th>\n",
       "      <td>2020348</td>\n",
       "      <td>2020</td>\n",
       "      <td>09/13/2021</td>\n",
       "      <td>Ansonia</td>\n",
       "      <td>230 WAKELEE AVE</td>\n",
       "      <td>150500.0</td>\n",
       "      <td>325000.0</td>\n",
       "      <td>0.463000</td>\n",
       "      <td>Commercial</td>\n",
       "      <td>NaN</td>\n",
       "      <td>NaN</td>\n",
       "      <td>NaN</td>\n",
       "      <td>NaN</td>\n",
       "      <td>NaN</td>\n",
       "    </tr>\n",
       "    <tr>\n",
       "      <th>1</th>\n",
       "      <td>20002</td>\n",
       "      <td>2020</td>\n",
       "      <td>10/02/2020</td>\n",
       "      <td>Ashford</td>\n",
       "      <td>390 TURNPIKE RD</td>\n",
       "      <td>253000.0</td>\n",
       "      <td>430000.0</td>\n",
       "      <td>0.588300</td>\n",
       "      <td>Residential</td>\n",
       "      <td>Single Family</td>\n",
       "      <td>NaN</td>\n",
       "      <td>NaN</td>\n",
       "      <td>NaN</td>\n",
       "      <td>NaN</td>\n",
       "    </tr>\n",
       "    <tr>\n",
       "      <th>2</th>\n",
       "      <td>200212</td>\n",
       "      <td>2020</td>\n",
       "      <td>03/09/2021</td>\n",
       "      <td>Avon</td>\n",
       "      <td>5 CHESTNUT DRIVE</td>\n",
       "      <td>130400.0</td>\n",
       "      <td>179900.0</td>\n",
       "      <td>0.724800</td>\n",
       "      <td>Residential</td>\n",
       "      <td>Condo</td>\n",
       "      <td>NaN</td>\n",
       "      <td>NaN</td>\n",
       "      <td>NaN</td>\n",
       "      <td>NaN</td>\n",
       "    </tr>\n",
       "    <tr>\n",
       "      <th>3</th>\n",
       "      <td>200243</td>\n",
       "      <td>2020</td>\n",
       "      <td>04/13/2021</td>\n",
       "      <td>Avon</td>\n",
       "      <td>111 NORTHINGTON DRIVE</td>\n",
       "      <td>619290.0</td>\n",
       "      <td>890000.0</td>\n",
       "      <td>0.695800</td>\n",
       "      <td>Residential</td>\n",
       "      <td>Single Family</td>\n",
       "      <td>NaN</td>\n",
       "      <td>NaN</td>\n",
       "      <td>NaN</td>\n",
       "      <td>NaN</td>\n",
       "    </tr>\n",
       "    <tr>\n",
       "      <th>4</th>\n",
       "      <td>200377</td>\n",
       "      <td>2020</td>\n",
       "      <td>07/02/2021</td>\n",
       "      <td>Avon</td>\n",
       "      <td>70 FAR HILLS DRIVE</td>\n",
       "      <td>862330.0</td>\n",
       "      <td>1447500.0</td>\n",
       "      <td>0.595700</td>\n",
       "      <td>Residential</td>\n",
       "      <td>Single Family</td>\n",
       "      <td>NaN</td>\n",
       "      <td>NaN</td>\n",
       "      <td>NaN</td>\n",
       "      <td>NaN</td>\n",
       "    </tr>\n",
       "    <tr>\n",
       "      <th>...</th>\n",
       "      <td>...</td>\n",
       "      <td>...</td>\n",
       "      <td>...</td>\n",
       "      <td>...</td>\n",
       "      <td>...</td>\n",
       "      <td>...</td>\n",
       "      <td>...</td>\n",
       "      <td>...</td>\n",
       "      <td>...</td>\n",
       "      <td>...</td>\n",
       "      <td>...</td>\n",
       "      <td>...</td>\n",
       "      <td>...</td>\n",
       "      <td>...</td>\n",
       "    </tr>\n",
       "    <tr>\n",
       "      <th>997208</th>\n",
       "      <td>190272</td>\n",
       "      <td>2019</td>\n",
       "      <td>06/24/2020</td>\n",
       "      <td>New London</td>\n",
       "      <td>4 BISHOP CT</td>\n",
       "      <td>60410.0</td>\n",
       "      <td>53100.0</td>\n",
       "      <td>1.137665</td>\n",
       "      <td>Single Family</td>\n",
       "      <td>Single Family</td>\n",
       "      <td>14 - Foreclosure</td>\n",
       "      <td>NaN</td>\n",
       "      <td>NaN</td>\n",
       "      <td>NaN</td>\n",
       "    </tr>\n",
       "    <tr>\n",
       "      <th>997209</th>\n",
       "      <td>190284</td>\n",
       "      <td>2019</td>\n",
       "      <td>11/27/2019</td>\n",
       "      <td>Waterbury</td>\n",
       "      <td>126 PERKINS AVE</td>\n",
       "      <td>68280.0</td>\n",
       "      <td>76000.0</td>\n",
       "      <td>0.898400</td>\n",
       "      <td>Single Family</td>\n",
       "      <td>Single Family</td>\n",
       "      <td>25 - Other</td>\n",
       "      <td>PRIVATE SALE</td>\n",
       "      <td>NaN</td>\n",
       "      <td>NaN</td>\n",
       "    </tr>\n",
       "    <tr>\n",
       "      <th>997210</th>\n",
       "      <td>190129</td>\n",
       "      <td>2019</td>\n",
       "      <td>04/27/2020</td>\n",
       "      <td>Windsor Locks</td>\n",
       "      <td>19 HATHAWAY ST</td>\n",
       "      <td>121450.0</td>\n",
       "      <td>210000.0</td>\n",
       "      <td>0.578300</td>\n",
       "      <td>Single Family</td>\n",
       "      <td>Single Family</td>\n",
       "      <td>NaN</td>\n",
       "      <td>NaN</td>\n",
       "      <td>NaN</td>\n",
       "      <td>NaN</td>\n",
       "    </tr>\n",
       "    <tr>\n",
       "      <th>997211</th>\n",
       "      <td>190504</td>\n",
       "      <td>2019</td>\n",
       "      <td>06/03/2020</td>\n",
       "      <td>Middletown</td>\n",
       "      <td>8 BYSTREK DR</td>\n",
       "      <td>203360.0</td>\n",
       "      <td>280000.0</td>\n",
       "      <td>0.726300</td>\n",
       "      <td>Single Family</td>\n",
       "      <td>Single Family</td>\n",
       "      <td>NaN</td>\n",
       "      <td>NaN</td>\n",
       "      <td>NaN</td>\n",
       "      <td>NaN</td>\n",
       "    </tr>\n",
       "    <tr>\n",
       "      <th>997212</th>\n",
       "      <td>190344</td>\n",
       "      <td>2019</td>\n",
       "      <td>12/20/2019</td>\n",
       "      <td>Milford</td>\n",
       "      <td>250 RESEARCH DR</td>\n",
       "      <td>4035970.0</td>\n",
       "      <td>7450000.0</td>\n",
       "      <td>0.541700</td>\n",
       "      <td>NaN</td>\n",
       "      <td>NaN</td>\n",
       "      <td>NaN</td>\n",
       "      <td>NaN</td>\n",
       "      <td>NaN</td>\n",
       "      <td>NaN</td>\n",
       "    </tr>\n",
       "  </tbody>\n",
       "</table>\n",
       "<p>997213 rows × 14 columns</p>\n",
       "</div>"
      ],
      "text/plain": [
       "        Serial Number  List Year Date Recorded           Town  \\\n",
       "0             2020348       2020    09/13/2021        Ansonia   \n",
       "1               20002       2020    10/02/2020        Ashford   \n",
       "2              200212       2020    03/09/2021           Avon   \n",
       "3              200243       2020    04/13/2021           Avon   \n",
       "4              200377       2020    07/02/2021           Avon   \n",
       "...               ...        ...           ...            ...   \n",
       "997208         190272       2019    06/24/2020     New London   \n",
       "997209         190284       2019    11/27/2019      Waterbury   \n",
       "997210         190129       2019    04/27/2020  Windsor Locks   \n",
       "997211         190504       2019    06/03/2020     Middletown   \n",
       "997212         190344       2019    12/20/2019        Milford   \n",
       "\n",
       "                      Address  Assessed Value  Sale Amount  Sales Ratio  \\\n",
       "0             230 WAKELEE AVE        150500.0     325000.0     0.463000   \n",
       "1             390 TURNPIKE RD        253000.0     430000.0     0.588300   \n",
       "2            5 CHESTNUT DRIVE        130400.0     179900.0     0.724800   \n",
       "3       111 NORTHINGTON DRIVE        619290.0     890000.0     0.695800   \n",
       "4          70 FAR HILLS DRIVE        862330.0    1447500.0     0.595700   \n",
       "...                       ...             ...          ...          ...   \n",
       "997208            4 BISHOP CT         60410.0      53100.0     1.137665   \n",
       "997209        126 PERKINS AVE         68280.0      76000.0     0.898400   \n",
       "997210         19 HATHAWAY ST        121450.0     210000.0     0.578300   \n",
       "997211           8 BYSTREK DR        203360.0     280000.0     0.726300   \n",
       "997212        250 RESEARCH DR       4035970.0    7450000.0     0.541700   \n",
       "\n",
       "        Property Type Residential Type      Non Use Code Assessor Remarks  \\\n",
       "0          Commercial              NaN               NaN              NaN   \n",
       "1         Residential    Single Family               NaN              NaN   \n",
       "2         Residential            Condo               NaN              NaN   \n",
       "3         Residential    Single Family               NaN              NaN   \n",
       "4         Residential    Single Family               NaN              NaN   \n",
       "...               ...              ...               ...              ...   \n",
       "997208  Single Family    Single Family  14 - Foreclosure              NaN   \n",
       "997209  Single Family    Single Family        25 - Other     PRIVATE SALE   \n",
       "997210  Single Family    Single Family               NaN              NaN   \n",
       "997211  Single Family    Single Family               NaN              NaN   \n",
       "997212            NaN              NaN               NaN              NaN   \n",
       "\n",
       "       OPM remarks Location  \n",
       "0              NaN      NaN  \n",
       "1              NaN      NaN  \n",
       "2              NaN      NaN  \n",
       "3              NaN      NaN  \n",
       "4              NaN      NaN  \n",
       "...            ...      ...  \n",
       "997208         NaN      NaN  \n",
       "997209         NaN      NaN  \n",
       "997210         NaN      NaN  \n",
       "997211         NaN      NaN  \n",
       "997212         NaN      NaN  \n",
       "\n",
       "[997213 rows x 14 columns]"
      ]
     },
     "execution_count": 1,
     "metadata": {},
     "output_type": "execute_result"
    }
   ],
   "source": [
    "# importing all the required libraries\n",
    "import pandas as pd\n",
    "import matplotlib.pyplot as plt\n",
    "import numpy as np\n",
    "import seaborn as sns\n",
    "\n",
    "# read in the data\n",
    "df = pd.read_csv('/Users/aakashbora/downloads/Real_Estate_Sales_2001-2020_GL.csv')\n",
    "df"
   ]
  },
  {
   "cell_type": "code",
   "execution_count": 2,
   "id": "6ee1b529",
   "metadata": {},
   "outputs": [],
   "source": [
    "#removing all the data which is not necessary for the model from the dataframe\n",
    "sales = df.copy()\n",
    "sales = sales.iloc[:, [1,3,5,6,7,9]]\n",
    "\n",
    "#Selecting a specific town (Bristol) for prediction\n",
    "Bristol = sales[sales['Town']=='Bristol']\n",
    "\n",
    "#Slecting only the significant values in the Residential Type column (Single Family and Condo)\n",
    "templist = ['Single Family', 'Condo']\n",
    "Bristol = Bristol[Bristol['Residential Type'].isin(templist)]\n",
    "\n",
    "#Dropping the outliers\n",
    "Bristol = Bristol[Bristol['Assessed Value'] < 300000 ]\n",
    "\n",
    "#Dropping the NaN values from the dataframe\n",
    "Bristol = Bristol.dropna()"
   ]
  },
  {
   "cell_type": "code",
   "execution_count": 3,
   "id": "8fb6f9dc",
   "metadata": {},
   "outputs": [
    {
     "data": {
      "text/html": [
       "<div>\n",
       "<style scoped>\n",
       "    .dataframe tbody tr th:only-of-type {\n",
       "        vertical-align: middle;\n",
       "    }\n",
       "\n",
       "    .dataframe tbody tr th {\n",
       "        vertical-align: top;\n",
       "    }\n",
       "\n",
       "    .dataframe thead th {\n",
       "        text-align: right;\n",
       "    }\n",
       "</style>\n",
       "<table border=\"1\" class=\"dataframe\">\n",
       "  <thead>\n",
       "    <tr style=\"text-align: right;\">\n",
       "      <th></th>\n",
       "      <th>List Year</th>\n",
       "      <th>Assessed Value</th>\n",
       "      <th>Sale Amount</th>\n",
       "      <th>Sales Ratio</th>\n",
       "    </tr>\n",
       "  </thead>\n",
       "  <tbody>\n",
       "    <tr>\n",
       "      <th>count</th>\n",
       "      <td>8985.000000</td>\n",
       "      <td>8985.000000</td>\n",
       "      <td>8985.000000</td>\n",
       "      <td>8985.000000</td>\n",
       "    </tr>\n",
       "    <tr>\n",
       "      <th>mean</th>\n",
       "      <td>2013.862104</td>\n",
       "      <td>120754.824151</td>\n",
       "      <td>180363.076920</td>\n",
       "      <td>0.825954</td>\n",
       "    </tr>\n",
       "    <tr>\n",
       "      <th>std</th>\n",
       "      <td>4.653393</td>\n",
       "      <td>47256.922139</td>\n",
       "      <td>80067.935182</td>\n",
       "      <td>1.663005</td>\n",
       "    </tr>\n",
       "    <tr>\n",
       "      <th>min</th>\n",
       "      <td>2006.000000</td>\n",
       "      <td>0.000000</td>\n",
       "      <td>2000.000000</td>\n",
       "      <td>0.000000</td>\n",
       "    </tr>\n",
       "    <tr>\n",
       "      <th>25%</th>\n",
       "      <td>2009.000000</td>\n",
       "      <td>90860.000000</td>\n",
       "      <td>126000.000000</td>\n",
       "      <td>0.568769</td>\n",
       "    </tr>\n",
       "    <tr>\n",
       "      <th>50%</th>\n",
       "      <td>2014.000000</td>\n",
       "      <td>116830.000000</td>\n",
       "      <td>172000.000000</td>\n",
       "      <td>0.675300</td>\n",
       "    </tr>\n",
       "    <tr>\n",
       "      <th>75%</th>\n",
       "      <td>2018.000000</td>\n",
       "      <td>145670.000000</td>\n",
       "      <td>227000.000000</td>\n",
       "      <td>0.800154</td>\n",
       "    </tr>\n",
       "    <tr>\n",
       "      <th>max</th>\n",
       "      <td>2020.000000</td>\n",
       "      <td>299320.000000</td>\n",
       "      <td>610000.000000</td>\n",
       "      <td>74.051000</td>\n",
       "    </tr>\n",
       "  </tbody>\n",
       "</table>\n",
       "</div>"
      ],
      "text/plain": [
       "         List Year  Assessed Value    Sale Amount  Sales Ratio\n",
       "count  8985.000000     8985.000000    8985.000000  8985.000000\n",
       "mean   2013.862104   120754.824151  180363.076920     0.825954\n",
       "std       4.653393    47256.922139   80067.935182     1.663005\n",
       "min    2006.000000        0.000000    2000.000000     0.000000\n",
       "25%    2009.000000    90860.000000  126000.000000     0.568769\n",
       "50%    2014.000000   116830.000000  172000.000000     0.675300\n",
       "75%    2018.000000   145670.000000  227000.000000     0.800154\n",
       "max    2020.000000   299320.000000  610000.000000    74.051000"
      ]
     },
     "execution_count": 3,
     "metadata": {},
     "output_type": "execute_result"
    }
   ],
   "source": [
    "# Produce descriptive statistics of the data\n",
    "Bristol.describe()"
   ]
  },
  {
   "cell_type": "code",
   "execution_count": 4,
   "id": "f524967c",
   "metadata": {},
   "outputs": [
    {
     "name": "stdout",
     "output_type": "stream",
     "text": [
      "<class 'pandas.core.frame.DataFrame'>\n",
      "Int64Index: 8985 entries, 14 to 981871\n",
      "Data columns (total 6 columns):\n",
      " #   Column            Non-Null Count  Dtype  \n",
      "---  ------            --------------  -----  \n",
      " 0   List Year         8985 non-null   int64  \n",
      " 1   Town              8985 non-null   object \n",
      " 2   Assessed Value    8985 non-null   float64\n",
      " 3   Sale Amount       8985 non-null   float64\n",
      " 4   Sales Ratio       8985 non-null   float64\n",
      " 5   Residential Type  8985 non-null   object \n",
      "dtypes: float64(3), int64(1), object(2)\n",
      "memory usage: 491.4+ KB\n"
     ]
    }
   ],
   "source": [
    "Bristol.info()"
   ]
  },
  {
   "cell_type": "code",
   "execution_count": 5,
   "id": "35caf37f",
   "metadata": {},
   "outputs": [
    {
     "data": {
      "text/plain": [
       "<AxesSubplot:xlabel='Assessed Value', ylabel='List Year'>"
      ]
     },
     "execution_count": 5,
     "metadata": {},
     "output_type": "execute_result"
    },
    {
     "data": {
      "image/png": "[encoded data removed]",
      "text/plain": [
       "<Figure size 432x288 with 1 Axes>"
      ]
     },
     "metadata": {
      "needs_background": "light"
     },
     "output_type": "display_data"
    }
   ],
   "source": [
    "#plotting a graph of the data and the model\n",
    "sns.scatterplot(x=Bristol['Assessed Value'], y =Bristol['List Year'] \n",
    "                ,data = Bristol, hue = 'Residential Type')"
   ]
  },
  {
   "cell_type": "code",
   "execution_count": 6,
   "id": "2c5247bc",
   "metadata": {},
   "outputs": [],
   "source": [
    "from sklearn import preprocessing\n",
    "from sklearn import utils\n",
    "\n",
    "#Creating a new column in the dataframe names 'Res Label' and \n",
    "    #saving all single family as 1s and condos as 0s\n",
    "lab = preprocessing.LabelEncoder()\n",
    "ResLabel = lab.fit_transform(Bristol['Residential Type'])\n",
    "Bristol[\"Res Label\"] = ResLabel"
   ]
  },
  {
   "cell_type": "code",
   "execution_count": 7,
   "id": "7738ced0",
   "metadata": {},
   "outputs": [],
   "source": [
    "#Assigning x and y to the model\n",
    "X_columns = Bristol[['Assessed Value', 'List Year']]\n",
    "\n",
    "x = np.asarray(X_columns)\n",
    "\n",
    "y = np.asarray(Bristol['Res Label'])"
   ]
  },
  {
   "cell_type": "code",
   "execution_count": 8,
   "id": "ec11cb0a",
   "metadata": {},
   "outputs": [
    {
     "data": {
      "text/plain": [
       "Text(0, 0.5, 'count')"
      ]
     },
     "execution_count": 8,
     "metadata": {},
     "output_type": "execute_result"
    },
    {
     "data": {
      "image/png": "[encoded data removed]",
      "text/plain": [
       "<Figure size 432x288 with 1 Axes>"
      ]
     },
     "metadata": {
      "needs_background": "light"
     },
     "output_type": "display_data"
    }
   ],
   "source": [
    "ax = sns.countplot(x='Residential Type', hue='Residential Type', dodge=False, data = Bristol)\n",
    "ax.set_xlabel('Residential Type', fontsize=15, color='black')\n",
    "ax.set_ylabel('count', fontsize=15, color='black')"
   ]
  },
  {
   "cell_type": "markdown",
   "id": "8bf99d96",
   "metadata": {},
   "source": [
    "## Machine Learning\n",
    "- use the code to generate a model\n",
    "- start by pick data to use as your x and y\n",
    "- split your data into a training set (80) and a validation set (20)"
   ]
  },
  {
   "cell_type": "code",
   "execution_count": 9,
   "id": "d1162012",
   "metadata": {},
   "outputs": [],
   "source": [
    "# split the data into data_train and data_val\n",
    "\n",
    "from sklearn.model_selection import train_test_split\n",
    "X_train, X_test, y_train, y_test = train_test_split(x,y, test_size = 0.2, random_state = 4)\n",
    "\n",
    "x = X_train\n",
    "y = y_train"
   ]
  },
  {
   "cell_type": "code",
   "execution_count": 10,
   "id": "a88c0cd8",
   "metadata": {},
   "outputs": [
    {
     "data": {
      "text/plain": [
       "(1797,)"
      ]
     },
     "execution_count": 10,
     "metadata": {},
     "output_type": "execute_result"
    }
   ],
   "source": [
    "# save your x and y for the training/validation sets\n",
    "# use x_train/y_train and x_val,y_val\n",
    "\n",
    "from sklearn import svm\n",
    "model = svm.SVC(kernel = 'linear', C= 10, gamma = 10)\n",
    "model.fit(x, y)\n",
    "\n",
    "y_predict = model.predict(X_test)\n",
    "y_predict.shape"
   ]
  },
  {
   "cell_type": "markdown",
   "id": "66de8860",
   "metadata": {},
   "source": [
    "## Machine Learning Testing\n",
    "- use a loop to test your model against the validation set you created\n",
    "- make a graph with a scater plot of the data and a plot of the model"
   ]
  },
  {
   "cell_type": "code",
   "execution_count": 11,
   "id": "7c61f913",
   "metadata": {},
   "outputs": [
    {
     "name": "stdout",
     "output_type": "stream",
     "text": [
      "The Accuracy % is: 84.36282693377852\n"
     ]
    }
   ],
   "source": [
    "from sklearn.metrics import accuracy_score\n",
    "\n",
    "acc = accuracy_score(y_test,y_predict)\n",
    "print('The Accuracy % is:', acc * 100)"
   ]
  },
  {
   "cell_type": "code",
   "execution_count": 12,
   "id": "d201ad2d",
   "metadata": {},
   "outputs": [
    {
     "name": "stdout",
     "output_type": "stream",
     "text": [
      "The error percentage is = 15.637173066221477\n"
     ]
    }
   ],
   "source": [
    "#Calculating the error\n",
    "#Error is 1-Accuracy\n",
    "error = 1 - acc\n",
    "print('The error percentage is =', error*100)"
   ]
  },
  {
   "cell_type": "code",
   "execution_count": 13,
   "id": "5e5bf218",
   "metadata": {},
   "outputs": [
    {
     "data": {
      "text/plain": [
       "array([[ 105,  246],\n",
       "       [  35, 1411]])"
      ]
     },
     "execution_count": 13,
     "metadata": {},
     "output_type": "execute_result"
    }
   ],
   "source": [
    "#Display Confusion Matrix\n",
    "from sklearn.metrics import confusion_matrix\n",
    "cm = confusion_matrix(y_test, y_predict)\n",
    "cm"
   ]
  },
  {
   "cell_type": "code",
   "execution_count": 14,
   "id": "af7f8d6f",
   "metadata": {},
   "outputs": [
    {
     "data": {
      "text/html": [
       "<div>\n",
       "<style scoped>\n",
       "    .dataframe tbody tr th:only-of-type {\n",
       "        vertical-align: middle;\n",
       "    }\n",
       "\n",
       "    .dataframe tbody tr th {\n",
       "        vertical-align: top;\n",
       "    }\n",
       "\n",
       "    .dataframe thead th {\n",
       "        text-align: right;\n",
       "    }\n",
       "</style>\n",
       "<table border=\"1\" class=\"dataframe\">\n",
       "  <thead>\n",
       "    <tr style=\"text-align: right;\">\n",
       "      <th></th>\n",
       "      <th>Actual</th>\n",
       "      <th>Predicted</th>\n",
       "    </tr>\n",
       "  </thead>\n",
       "  <tbody>\n",
       "    <tr>\n",
       "      <th>20</th>\n",
       "      <td>1</td>\n",
       "      <td>1</td>\n",
       "    </tr>\n",
       "    <tr>\n",
       "      <th>21</th>\n",
       "      <td>1</td>\n",
       "      <td>1</td>\n",
       "    </tr>\n",
       "    <tr>\n",
       "      <th>22</th>\n",
       "      <td>1</td>\n",
       "      <td>0</td>\n",
       "    </tr>\n",
       "    <tr>\n",
       "      <th>23</th>\n",
       "      <td>1</td>\n",
       "      <td>1</td>\n",
       "    </tr>\n",
       "    <tr>\n",
       "      <th>24</th>\n",
       "      <td>1</td>\n",
       "      <td>1</td>\n",
       "    </tr>\n",
       "    <tr>\n",
       "      <th>25</th>\n",
       "      <td>1</td>\n",
       "      <td>1</td>\n",
       "    </tr>\n",
       "    <tr>\n",
       "      <th>26</th>\n",
       "      <td>1</td>\n",
       "      <td>1</td>\n",
       "    </tr>\n",
       "    <tr>\n",
       "      <th>27</th>\n",
       "      <td>1</td>\n",
       "      <td>1</td>\n",
       "    </tr>\n",
       "    <tr>\n",
       "      <th>28</th>\n",
       "      <td>0</td>\n",
       "      <td>1</td>\n",
       "    </tr>\n",
       "    <tr>\n",
       "      <th>29</th>\n",
       "      <td>1</td>\n",
       "      <td>1</td>\n",
       "    </tr>\n",
       "    <tr>\n",
       "      <th>30</th>\n",
       "      <td>1</td>\n",
       "      <td>1</td>\n",
       "    </tr>\n",
       "  </tbody>\n",
       "</table>\n",
       "</div>"
      ],
      "text/plain": [
       "    Actual  Predicted\n",
       "20       1          1\n",
       "21       1          1\n",
       "22       1          0\n",
       "23       1          1\n",
       "24       1          1\n",
       "25       1          1\n",
       "26       1          1\n",
       "27       1          1\n",
       "28       0          1\n",
       "29       1          1\n",
       "30       1          1"
      ]
     },
     "execution_count": 14,
     "metadata": {},
     "output_type": "execute_result"
    }
   ],
   "source": [
    "#Comparing the actual vs predicted value\n",
    "#1s are single family and 0s are condos\n",
    "df_scores = pd.DataFrame({'Actual':y_test, 'Predicted':y_predict})\n",
    "df_scores.loc[20:30]"
   ]
  },
  {
   "cell_type": "code",
   "execution_count": 27,
   "id": "f7dcd169",
   "metadata": {},
   "outputs": [
    {
     "name": "stdout",
     "output_type": "stream",
     "text": [
      "[1 0 1 0 1 1]\n"
     ]
    }
   ],
   "source": [
    "# use the model to make a prediction about an unknown\n",
    "a = model.predict(([[325000, 2029], [45000, 2025], [255000, 2005], [35000, 2009], [178000, 2022], [358000, 2030]]))\n",
    "print (a)"
   ]
  },
  {
   "cell_type": "code",
   "execution_count": 16,
   "id": "9a7a1353",
   "metadata": {},
   "outputs": [
    {
     "data": {
      "text/plain": [
       "<matplotlib.legend.Legend at 0x7fc8b3a56430>"
      ]
     },
     "execution_count": 16,
     "metadata": {},
     "output_type": "execute_result"
    },
    {
     "data": {
      "image/png": "[encoded data removed]",
      "text/plain": [
       "<Figure size 1080x576 with 1 Axes>"
      ]
     },
     "metadata": {
      "needs_background": "light"
     },
     "output_type": "display_data"
    }
   ],
   "source": [
    "#Plotting a prediction graph\n",
    "plt.figure(figsize=(15, 8))\n",
    "\n",
    "Condo = np.where(y_predict == 0)\n",
    "Condo = Condo[0].tolist()\n",
    "\n",
    "SingleFamily = np.where(y_predict == 1)\n",
    "SingleFamily= SingleFamily[0].tolist()\n",
    "\n",
    "Cond = X_test[Condo, :]\n",
    "Single = X_test[SingleFamily, :]\n",
    "\n",
    "plt.xlabel('Assessed Value')\n",
    "plt.ylabel('List Year')\n",
    "\n",
    "figure = plt.scatter(Cond[:,0], Cond[:,1], color = 'red', marker ='x', label='Condo')\n",
    "plt.scatter(Single[:,0], Single[:,1], color = 'green', marker ='o', label='Single Family')\n",
    "\n",
    "plt.title('Prediction Plot')\n",
    "plt.legend()"
   ]
  },
  {
   "cell_type": "code",
   "execution_count": null,
   "id": "8c6d0f61",
   "metadata": {},
   "outputs": [],
   "source": []
  }
 ],
 "metadata": {
  "kernelspec": {
   "display_name": "Python 3 (ipykernel)",
   "language": "python",
   "name": "python3"
  },
  "language_info": {
   "codemirror_mode": {
    "name": "ipython",
    "version": 3
   },
   "file_extension": ".py",
   "mimetype": "text/x-python",
   "name": "python",
   "nbconvert_exporter": "python",
   "pygments_lexer": "ipython3",
   "version": "3.9.12"
  }
 },
 "nbformat": 4,
 "nbformat_minor": 5
}
